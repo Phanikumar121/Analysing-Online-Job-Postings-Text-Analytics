{
 "cells": [
  {
   "cell_type": "code",
   "execution_count": 1,
   "metadata": {},
   "outputs": [
    {
     "ename": "ModuleNotFoundError",
     "evalue": "No module named 'pandas'",
     "output_type": "error",
     "traceback": [
      "\u001b[1;31m---------------------------------------------------------------------------\u001b[0m",
      "\u001b[1;31mModuleNotFoundError\u001b[0m                       Traceback (most recent call last)",
      "\u001b[1;32m<ipython-input-1-417853f9e416>\u001b[0m in \u001b[0;36m<module>\u001b[1;34m\u001b[0m\n\u001b[0;32m      1\u001b[0m \u001b[1;31m#import required packages\u001b[0m\u001b[1;33m\u001b[0m\u001b[1;33m\u001b[0m\u001b[1;33m\u001b[0m\u001b[0m\n\u001b[0;32m      2\u001b[0m \u001b[1;31m#basics\u001b[0m\u001b[1;33m\u001b[0m\u001b[1;33m\u001b[0m\u001b[1;33m\u001b[0m\u001b[0m\n\u001b[1;32m----> 3\u001b[1;33m \u001b[1;32mimport\u001b[0m \u001b[0mpandas\u001b[0m \u001b[1;32mas\u001b[0m \u001b[0mpd\u001b[0m\u001b[1;33m\u001b[0m\u001b[1;33m\u001b[0m\u001b[0m\n\u001b[0m\u001b[0;32m      4\u001b[0m \u001b[1;32mimport\u001b[0m \u001b[0mnumpy\u001b[0m \u001b[1;32mas\u001b[0m \u001b[0mnp\u001b[0m\u001b[1;33m\u001b[0m\u001b[1;33m\u001b[0m\u001b[0m\n\u001b[0;32m      5\u001b[0m \u001b[1;33m\u001b[0m\u001b[0m\n",
      "\u001b[1;31mModuleNotFoundError\u001b[0m: No module named 'pandas'"
     ]
    }
   ],
   "source": [
    "#import required packages\n",
    "#basics\n",
    "import pandas as pd \n",
    "import numpy as np\n",
    "\n",
    "#stats\n",
    "#from scipy.misc import imread\n",
    "from scipy import sparse\n",
    "import scipy.stats as ss\n",
    "\n",
    "#viz\n",
    "import matplotlib.pyplot as plt\n",
    "import matplotlib.gridspec as gridspec \n",
    "import seaborn as sns\n",
    "from wordcloud import WordCloud ,STOPWORDS\n",
    "from PIL import Image\n",
    "import pyLDAvis\n",
    "\n",
    "#nlp\n",
    "import string\n",
    "import re    #for regex\n",
    "import nltk\n",
    "from nltk.corpus import stopwords\n",
    "\n",
    "#import spacy\n",
    "from nltk import pos_tag\n",
    "from nltk.stem.wordnet import WordNetLemmatizer \n",
    "from nltk.tokenize import word_tokenize\n",
    "\n",
    "# Tweet tokenizer does not split at apostophes which is what we want\n",
    "from nltk.tokenize import TweetTokenizer   \n",
    "\n",
    "\n",
    "#FeatureEngineering\n",
    "from sklearn.feature_extraction.text import TfidfVectorizer, CountVectorizer, HashingVectorizer, TfidfTransformer\n",
    "from sklearn.decomposition import TruncatedSVD\n",
    "from sklearn.base import BaseEstimator, ClassifierMixin\n",
    "from sklearn.utils.validation import check_X_y, check_is_fitted\n",
    "from sklearn import model_selection, preprocessing, linear_model, naive_bayes, metrics, svm, ensemble,decomposition\n",
    "from sklearn.linear_model import LogisticRegression\n",
    "from sklearn.metrics import log_loss\n",
    "from sklearn.cluster import KMeans\n",
    "from sklearn.model_selection import StratifiedKFold\n",
    "from sklearn.model_selection import train_test_split,GridSearchCV\n",
    "from sklearn.metrics import silhouette_score\n",
    "\n",
    "import  textblob\n",
    "from xgboost import XGBClassifier\n",
    "\n",
    "#Importing Gensim\n",
    "import gensim\n",
    "from gensim import corpora\n",
    "\n",
    "from textblob import TextBlob\n",
    "from nltk.stem import PorterStemmer\n",
    "import nltk\n",
    "from textblob import Word\n",
    "from imblearn.over_sampling import RandomOverSampler\n",
    "\n",
    "#settings\n",
    "color = sns.color_palette()\n",
    "sns.set_style(\"dark\")\n",
    "\n",
    "lem = WordNetLemmatizer()\n",
    "tokenizer = TweetTokenizer()\n",
    "\n",
    "%matplotlib inline"
   ]
  },
  {
   "cell_type": "code",
   "execution_count": null,
   "metadata": {},
   "outputs": [],
   "source": [
    "online_job_postings = pd.read_csv('data job posts.csv')"
   ]
  },
  {
   "cell_type": "code",
   "execution_count": null,
   "metadata": {},
   "outputs": [],
   "source": [
    "online_job_postings.head()"
   ]
  },
  {
   "cell_type": "code",
   "execution_count": null,
   "metadata": {},
   "outputs": [],
   "source": [
    "#Most of the variables are not required for analysis. so we select only the required variable and then impute missing values\n",
    "online_job_postings = online_job_postings[['jobpost','Title','Company','JobDescription',\n",
    "                                           'JobRequirment','RequiredQual','Year','Month',\n",
    "                                           'AboutC','IT']]"
   ]
  },
  {
   "cell_type": "code",
   "execution_count": null,
   "metadata": {},
   "outputs": [],
   "source": [
    "#Checking for missing data\n",
    "online_job_postings_missing = online_job_postings.isna()\n",
    "num_missing = online_job_postings_missing.sum()\n",
    "num_missing"
   ]
  },
  {
   "cell_type": "code",
   "execution_count": null,
   "metadata": {},
   "outputs": [],
   "source": [
    "(num_missing/len(online_job_postings)).round(2)"
   ]
  },
  {
   "cell_type": "code",
   "execution_count": null,
   "metadata": {},
   "outputs": [],
   "source": [
    "online_job_postings[['Title',\n",
    "                     'Company',\n",
    "                     'JobDescription',\n",
    "                     'JobRequirment',\n",
    "                     'RequiredQual',\n",
    "                     'AboutC']] = online_job_postings[['Title',\n",
    "                                                       'Company',\n",
    "                                                       'JobDescription',\n",
    "                                                       'JobRequirment',\n",
    "                                                       'RequiredQual',\n",
    "                                                       'AboutC']].fillna(online_job_postings[['Title',\n",
    "                                                                                              'Company',\n",
    "                                                                                              'JobDescription',\n",
    "                                                                                              'JobRequirment',\n",
    "                                                                                              'RequiredQual',\n",
    "                                                                                              'AboutC']].mode().iloc[0])"
   ]
  },
  {
   "cell_type": "code",
   "execution_count": null,
   "metadata": {},
   "outputs": [],
   "source": [
    "#Checking for missing data\n",
    "online_job_postings_missing = online_job_postings.isna()\n",
    "num_missing = online_job_postings_missing.sum()\n",
    "num_missing"
   ]
  },
  {
   "cell_type": "code",
   "execution_count": null,
   "metadata": {},
   "outputs": [],
   "source": [
    "df = online_job_postings"
   ]
  },
  {
   "cell_type": "code",
   "execution_count": null,
   "metadata": {},
   "outputs": [],
   "source": [
    "#Exploratory data analysis\n",
    "\n",
    "df['jobpost'] = df['jobpost'].astype(str)\n",
    "df['count_sent'] = df[\"jobpost\"].apply(lambda x: len(re.findall(\"\\n\",str(x)))+1)\n",
    "\n",
    "#Word count in each comment:\n",
    "df['count_word'] = df[\"jobpost\"].apply(lambda x: len(str(x).split()))\n",
    "\n",
    "#Unique word count\n",
    "df['count_unique_word'] = df[\"jobpost\"].apply(lambda x: len(set(str(x).split())))\n",
    "\n",
    "#Letter count\n",
    "df['count_letters'] = df[\"jobpost\"].apply(lambda x: len(str(x)))\n",
    "\n",
    "#Word density\n",
    "\n",
    "df['word_density'] = df['count_letters'] / (df['count_word']+1)\n",
    "\n",
    "#punctuation count\n",
    "df[\"count_punctuations\"] = df[\"jobpost\"].apply(lambda x: len([c for c in str(x) if c in string.punctuation]))\n",
    "\n",
    "#upper case words count\n",
    "df[\"count_words_upper\"] = df[\"jobpost\"].apply(lambda x: len([w for w in str(x).split() if w.isupper()]))\n",
    "\n",
    "#upper case words count\n",
    "df[\"count_words_lower\"] = df[\"jobpost\"].apply(lambda x: len([w for w in str(x).split() if w.islower()]))\n",
    "\n",
    "#title case words count\n",
    "df[\"count_words_title\"] = df[\"jobpost\"].apply(lambda x: len([w for w in str(x).split() if w.istitle()]))\n",
    "\n",
    "#Average length of the words\n",
    "df[\"mean_word_len\"] = df[\"jobpost\"].apply(lambda x: np.mean([len(w) for w in str(x).split()]))\n",
    "\n",
    "#Number of numeric\n",
    "df['numeric'] = df['jobpost'].apply(lambda x :len([x for x in x.split() if x.isdigit()]))\n",
    "\n",
    "#Number of alphanumeric\n",
    "df['alphanumeric'] = df['jobpost'].apply(lambda x :len([x for x in x.split() if x.isalnum()]))\n",
    "\n",
    "#Number of alphabetics\n",
    "df['alphabetetics'] = df['jobpost'].apply(lambda x :len([x for x in x.split() if x.isalpha()]))\n",
    "\n",
    "#Number of alphabetics\n",
    "df['Spaces'] = df['jobpost'].apply(lambda x :len([x for x in x.split() if x.isspace()]))\n",
    "\n",
    "#Number of Words ends with\n",
    "df['words_ends_with_et'] = df['jobpost'].apply(lambda x :len([x for x in x.lower().split() if x.endswith('et')]))\n",
    "\n",
    "#Number of Words ends with\n",
    "df['words_start_with_no'] = df['jobpost'].apply(lambda x :len([x for x in x.lower().split() if x.startswith('no')]))\n",
    "\n",
    "# Count the occurences of all words\n",
    "df['wordcounts'] = df['jobpost'].apply(lambda x :dict([ [t, x.split().count(t)] for t in set(x.split()) ]))"
   ]
  },
  {
   "cell_type": "code",
   "execution_count": null,
   "metadata": {},
   "outputs": [],
   "source": [
    "df.head()"
   ]
  },
  {
   "cell_type": "markdown",
   "metadata": {},
   "source": [
    "# Sentiment Analysis"
   ]
  },
  {
   "cell_type": "code",
   "execution_count": null,
   "metadata": {},
   "outputs": [],
   "source": [
    "df['Sentiment'] = df['jobpost'].apply(lambda x: TextBlob(x).sentiment.polarity)"
   ]
  },
  {
   "cell_type": "code",
   "execution_count": null,
   "metadata": {},
   "outputs": [],
   "source": [
    "df['sentiment_cat'] = np.where(df.Sentiment > 0,'Positive', np.where(df.Sentiment == 0,'Neutral','Negative'))"
   ]
  },
  {
   "cell_type": "code",
   "execution_count": null,
   "metadata": {},
   "outputs": [],
   "source": [
    "df.head()"
   ]
  },
  {
   "cell_type": "code",
   "execution_count": null,
   "metadata": {},
   "outputs": [],
   "source": [
    "#Splitting data\n",
    "X = df.jobpost\n",
    "y = df.IT\n",
    "\n",
    "# split the new DataFrame into training and testing sets\n",
    "X_train, X_test, y_train, y_test = train_test_split(X, y, random_state = 123)"
   ]
  },
  {
   "cell_type": "code",
   "execution_count": null,
   "metadata": {},
   "outputs": [],
   "source": [
    "#UDF to clean the text\n",
    "import string\n",
    "stop = set(nltk.corpus.stopwords.words('english'))\n",
    "def clean_text(text):\n",
    "    text = text.lower()\n",
    "    text = text.strip()\n",
    "    text = re.sub(r' +', ' ', text)\n",
    "    text = re.sub(r\"[-()\\\"#/@;:{}`+=~|.!?,'0-9]\", \"\", text)\n",
    "    text = re.sub(r'\\n', ' ', text)\n",
    "    text = re.sub(r'((www.\\.[^\\s]+)|(http?://[^\\s]+))', ' ', text)\n",
    "    text = re.sub(r\"[-()\\\"#/@;:{}`+=~|.!?,']\", \"\", text)\n",
    "    return(text)"
   ]
  },
  {
   "cell_type": "code",
   "execution_count": null,
   "metadata": {},
   "outputs": [],
   "source": [
    "def pre_process(text):\n",
    "    text = text.str.replace('/','')                       \n",
    "    text = text.apply(lambda x: \" \".join(x for x in x.split() if x not in stop))\n",
    "    text = text.apply(lambda x: \" \".join([Word(word).lemmatize() for word in x.split()]))\n",
    "    return(text)"
   ]
  },
  {
   "cell_type": "code",
   "execution_count": null,
   "metadata": {},
   "outputs": [],
   "source": [
    "X_train = X_train.apply(lambda x: clean_text(x))\n",
    "X_test = X_test.apply(lambda x: clean_text(x))"
   ]
  },
  {
   "cell_type": "code",
   "execution_count": null,
   "metadata": {},
   "outputs": [],
   "source": [
    "X_train = pre_process(X_train)\n",
    "X_test = pre_process(X_test)"
   ]
  },
  {
   "cell_type": "code",
   "execution_count": null,
   "metadata": {},
   "outputs": [],
   "source": [
    "#Making a copy of X train and test for Topic modelling\n",
    "lda_Train = X_train \n",
    "lda_Test = X_test"
   ]
  },
  {
   "cell_type": "code",
   "execution_count": null,
   "metadata": {},
   "outputs": [],
   "source": [
    "#Creating a frequency DTM\n",
    "count_vect = CountVectorizer(analyzer='word', token_pattern=r'\\w{1,}', \n",
    "                             ngram_range=(1, 1 ), \n",
    "                             min_df=5, \n",
    "                             encoding='latin-1' ,\n",
    "                             max_features=800)\n",
    "\n",
    "xtrain_count = count_vect.fit_transform(X_train)\n",
    "X_test_count = count_vect.transform(X_test)"
   ]
  },
  {
   "cell_type": "code",
   "execution_count": null,
   "metadata": {},
   "outputs": [],
   "source": [
    "dtm = pd.DataFrame(xtrain_count.toarray())"
   ]
  },
  {
   "cell_type": "code",
   "execution_count": null,
   "metadata": {},
   "outputs": [],
   "source": [
    "#Adding columns to DTM\n",
    "dtm.columns = count_vect.get_feature_names()"
   ]
  },
  {
   "cell_type": "code",
   "execution_count": 24,
   "metadata": {},
   "outputs": [
    {
     "data": {
      "text/html": [
       "<div>\n",
       "<style scoped>\n",
       "    .dataframe tbody tr th:only-of-type {\n",
       "        vertical-align: middle;\n",
       "    }\n",
       "\n",
       "    .dataframe tbody tr th {\n",
       "        vertical-align: top;\n",
       "    }\n",
       "\n",
       "    .dataframe thead th {\n",
       "        text-align: right;\n",
       "    }\n",
       "</style>\n",
       "<table border=\"1\" class=\"dataframe\">\n",
       "  <thead>\n",
       "    <tr style=\"text-align: right;\">\n",
       "      <th></th>\n",
       "      <th>ability</th>\n",
       "      <th>able</th>\n",
       "      <th>access</th>\n",
       "      <th>accordance</th>\n",
       "      <th>according</th>\n",
       "      <th>account</th>\n",
       "      <th>accountant</th>\n",
       "      <th>accounting</th>\n",
       "      <th>accuracy</th>\n",
       "      <th>accurate</th>\n",
       "      <th>...</th>\n",
       "      <th>working</th>\n",
       "      <th>world</th>\n",
       "      <th>would</th>\n",
       "      <th>write</th>\n",
       "      <th>writing</th>\n",
       "      <th>written</th>\n",
       "      <th>wv</th>\n",
       "      <th>wwwcareercenteram</th>\n",
       "      <th>year</th>\n",
       "      <th>yerevan</th>\n",
       "    </tr>\n",
       "  </thead>\n",
       "  <tbody>\n",
       "    <tr>\n",
       "      <th>0</th>\n",
       "      <td>0</td>\n",
       "      <td>0</td>\n",
       "      <td>0</td>\n",
       "      <td>0</td>\n",
       "      <td>0</td>\n",
       "      <td>0</td>\n",
       "      <td>0</td>\n",
       "      <td>0</td>\n",
       "      <td>0</td>\n",
       "      <td>0</td>\n",
       "      <td>...</td>\n",
       "      <td>0</td>\n",
       "      <td>0</td>\n",
       "      <td>0</td>\n",
       "      <td>0</td>\n",
       "      <td>0</td>\n",
       "      <td>1</td>\n",
       "      <td>0</td>\n",
       "      <td>2</td>\n",
       "      <td>0</td>\n",
       "      <td>1</td>\n",
       "    </tr>\n",
       "    <tr>\n",
       "      <th>1</th>\n",
       "      <td>2</td>\n",
       "      <td>0</td>\n",
       "      <td>0</td>\n",
       "      <td>1</td>\n",
       "      <td>1</td>\n",
       "      <td>0</td>\n",
       "      <td>0</td>\n",
       "      <td>6</td>\n",
       "      <td>0</td>\n",
       "      <td>1</td>\n",
       "      <td>...</td>\n",
       "      <td>0</td>\n",
       "      <td>0</td>\n",
       "      <td>0</td>\n",
       "      <td>0</td>\n",
       "      <td>1</td>\n",
       "      <td>1</td>\n",
       "      <td>0</td>\n",
       "      <td>2</td>\n",
       "      <td>2</td>\n",
       "      <td>1</td>\n",
       "    </tr>\n",
       "    <tr>\n",
       "      <th>2</th>\n",
       "      <td>1</td>\n",
       "      <td>0</td>\n",
       "      <td>0</td>\n",
       "      <td>0</td>\n",
       "      <td>0</td>\n",
       "      <td>3</td>\n",
       "      <td>0</td>\n",
       "      <td>3</td>\n",
       "      <td>1</td>\n",
       "      <td>0</td>\n",
       "      <td>...</td>\n",
       "      <td>0</td>\n",
       "      <td>0</td>\n",
       "      <td>0</td>\n",
       "      <td>0</td>\n",
       "      <td>0</td>\n",
       "      <td>0</td>\n",
       "      <td>0</td>\n",
       "      <td>2</td>\n",
       "      <td>0</td>\n",
       "      <td>1</td>\n",
       "    </tr>\n",
       "    <tr>\n",
       "      <th>3</th>\n",
       "      <td>2</td>\n",
       "      <td>1</td>\n",
       "      <td>0</td>\n",
       "      <td>0</td>\n",
       "      <td>0</td>\n",
       "      <td>0</td>\n",
       "      <td>0</td>\n",
       "      <td>0</td>\n",
       "      <td>0</td>\n",
       "      <td>0</td>\n",
       "      <td>...</td>\n",
       "      <td>0</td>\n",
       "      <td>1</td>\n",
       "      <td>0</td>\n",
       "      <td>0</td>\n",
       "      <td>1</td>\n",
       "      <td>0</td>\n",
       "      <td>0</td>\n",
       "      <td>2</td>\n",
       "      <td>1</td>\n",
       "      <td>1</td>\n",
       "    </tr>\n",
       "    <tr>\n",
       "      <th>4</th>\n",
       "      <td>3</td>\n",
       "      <td>0</td>\n",
       "      <td>0</td>\n",
       "      <td>0</td>\n",
       "      <td>0</td>\n",
       "      <td>0</td>\n",
       "      <td>0</td>\n",
       "      <td>0</td>\n",
       "      <td>0</td>\n",
       "      <td>0</td>\n",
       "      <td>...</td>\n",
       "      <td>1</td>\n",
       "      <td>0</td>\n",
       "      <td>0</td>\n",
       "      <td>2</td>\n",
       "      <td>0</td>\n",
       "      <td>1</td>\n",
       "      <td>0</td>\n",
       "      <td>2</td>\n",
       "      <td>0</td>\n",
       "      <td>1</td>\n",
       "    </tr>\n",
       "  </tbody>\n",
       "</table>\n",
       "<p>5 rows × 800 columns</p>\n",
       "</div>"
      ],
      "text/plain": [
       "   ability  able  access  accordance  according  account  accountant  \\\n",
       "0        0     0       0           0          0        0           0   \n",
       "1        2     0       0           1          1        0           0   \n",
       "2        1     0       0           0          0        3           0   \n",
       "3        2     1       0           0          0        0           0   \n",
       "4        3     0       0           0          0        0           0   \n",
       "\n",
       "   accounting  accuracy  accurate  ...  working  world  would  write  writing  \\\n",
       "0           0         0         0  ...        0      0      0      0        0   \n",
       "1           6         0         1  ...        0      0      0      0        1   \n",
       "2           3         1         0  ...        0      0      0      0        0   \n",
       "3           0         0         0  ...        0      1      0      0        1   \n",
       "4           0         0         0  ...        1      0      0      2        0   \n",
       "\n",
       "   written  wv  wwwcareercenteram  year  yerevan  \n",
       "0        1   0                  2     0        1  \n",
       "1        1   0                  2     2        1  \n",
       "2        0   0                  2     0        1  \n",
       "3        0   0                  2     1        1  \n",
       "4        1   0                  2     0        1  \n",
       "\n",
       "[5 rows x 800 columns]"
      ]
     },
     "execution_count": 24,
     "metadata": {},
     "output_type": "execute_result"
    }
   ],
   "source": [
    "dtm.head()"
   ]
  },
  {
   "cell_type": "markdown",
   "metadata": {},
   "source": [
    "## Word Cloud and Bar Graph"
   ]
  },
  {
   "cell_type": "code",
   "execution_count": 25,
   "metadata": {},
   "outputs": [],
   "source": [
    "word_freq = pd.DataFrame(dtm.apply(sum).head(20), columns=['freq'])\n",
    "word_freq.sort_values('freq', ascending=False, inplace=True)"
   ]
  },
  {
   "cell_type": "code",
   "execution_count": 26,
   "metadata": {},
   "outputs": [
    {
     "data": {
      "text/plain": [
       "<matplotlib.axes._subplots.AxesSubplot at 0x95e05b7dd8>"
      ]
     },
     "execution_count": 26,
     "metadata": {},
     "output_type": "execute_result"
    },
    {
     "data": {
      "image/png": "[encoded data removed]",
      "text/plain": [
       "<Figure size 432x288 with 1 Axes>"
      ]
     },
     "metadata": {
      "needs_background": "light"
     },
     "output_type": "display_data"
    }
   ],
   "source": [
    "word_freq.plot(kind='bar')"
   ]
  },
  {
   "cell_type": "code",
   "execution_count": 27,
   "metadata": {},
   "outputs": [
    {
     "data": {
      "image/png": "[encoded data removed]",
      "text/plain": [
       "<Figure size 10800x3600 with 1 Axes>"
      ]
     },
     "metadata": {
      "needs_background": "light"
     },
     "output_type": "display_data"
    }
   ],
   "source": [
    "#Generating word clouds\n",
    "word_freq = dict(dtm.apply(sum))\n",
    "wordcloud = WordCloud(background_color='black', stopwords=stop)\n",
    "\n",
    "wordcloud = wordcloud.generate_from_frequencies(word_freq)\n",
    "fig = plt.figure(1, figsize=(150, 50))\n",
    "plt.axis('off')\n",
    "plt.imshow(wordcloud)\n",
    "plt.show()"
   ]
  },
  {
   "cell_type": "markdown",
   "metadata": {},
   "source": [
    "# Classification"
   ]
  },
  {
   "cell_type": "code",
   "execution_count": 28,
   "metadata": {},
   "outputs": [
    {
     "data": {
      "text/plain": [
       "(array([False,  True]), array([11453,  2797], dtype=int64))"
      ]
     },
     "execution_count": 28,
     "metadata": {},
     "output_type": "execute_result"
    }
   ],
   "source": [
    "#Checking if the y variable is balanced\n",
    "np.unique(y_train,return_counts=True)"
   ]
  },
  {
   "cell_type": "code",
   "execution_count": 29,
   "metadata": {},
   "outputs": [
    {
     "data": {
      "text/plain": [
       "(array([False,  True]), array([3789,  962], dtype=int64))"
      ]
     },
     "execution_count": 29,
     "metadata": {},
     "output_type": "execute_result"
    }
   ],
   "source": [
    "#Checking if the y variable is balanced\n",
    "np.unique(y_test,return_counts=True)"
   ]
  },
  {
   "cell_type": "markdown",
   "metadata": {},
   "source": [
    "## The variable is not balanced. It has very less number of True's.We need to perform over or under sampling to make the variable balanced. In this case, i went with over sampling of the lower class."
   ]
  },
  {
   "cell_type": "code",
   "execution_count": 30,
   "metadata": {},
   "outputs": [],
   "source": [
    "#Handling imbalance data for train\n",
    "random_sample = RandomOverSampler(random_state = 111)\n",
    "X_train,y_train = random_sample.fit_sample(xtrain_count,y_train)"
   ]
  },
  {
   "cell_type": "code",
   "execution_count": 31,
   "metadata": {},
   "outputs": [
    {
     "data": {
      "text/plain": [
       "(array([False,  True]), array([11453, 11453], dtype=int64))"
      ]
     },
     "execution_count": 31,
     "metadata": {},
     "output_type": "execute_result"
    }
   ],
   "source": [
    "np.unique(y_train,return_counts=True)"
   ]
  },
  {
   "cell_type": "code",
   "execution_count": 32,
   "metadata": {},
   "outputs": [],
   "source": [
    "#Handling imbalance data for test\n",
    "random_sample = RandomOverSampler(random_state = 1137)\n",
    "X_test,y_test = random_sample.fit_sample(X_test_count,y_test)"
   ]
  },
  {
   "cell_type": "code",
   "execution_count": 33,
   "metadata": {},
   "outputs": [
    {
     "data": {
      "text/plain": [
       "(array([False,  True]), array([3789, 3789], dtype=int64))"
      ]
     },
     "execution_count": 33,
     "metadata": {},
     "output_type": "execute_result"
    }
   ],
   "source": [
    "np.unique(y_test,return_counts=True)"
   ]
  },
  {
   "cell_type": "code",
   "execution_count": 34,
   "metadata": {},
   "outputs": [
    {
     "data": {
      "text/plain": [
       "LogisticRegression(max_iter=1000, n_jobs=-1)"
      ]
     },
     "execution_count": 34,
     "metadata": {},
     "output_type": "execute_result"
    }
   ],
   "source": [
    "#Classification using Logistic Regression\n",
    "logistic_reg = LogisticRegression(max_iter = 1000,n_jobs = -1)\n",
    "logistic_reg.fit(X_train, y_train)"
   ]
  },
  {
   "cell_type": "code",
   "execution_count": 35,
   "metadata": {},
   "outputs": [
    {
     "data": {
      "text/plain": [
       "0.9558630926394831"
      ]
     },
     "execution_count": 35,
     "metadata": {},
     "output_type": "execute_result"
    }
   ],
   "source": [
    "#Accuracy on train data\n",
    "logistic_reg.score(X_train, y_train)"
   ]
  },
  {
   "cell_type": "code",
   "execution_count": 36,
   "metadata": {},
   "outputs": [
    {
     "name": "stdout",
     "output_type": "stream",
     "text": [
      "Accuracy using Logistic Regression is 0.9088149907627342\n"
     ]
    }
   ],
   "source": [
    "#Predictions on test data\n",
    "y_pred_class = logistic_reg.predict(X_test)\n",
    "print('Accuracy using Logistic Regression is',metrics.accuracy_score(y_test, y_pred_class))"
   ]
  },
  {
   "cell_type": "code",
   "execution_count": 37,
   "metadata": {},
   "outputs": [
    {
     "name": "stdout",
     "output_type": "stream",
     "text": [
      "              precision    recall  f1-score   support\n",
      "\n",
      "       False       0.89      0.94      0.91      3789\n",
      "        True       0.93      0.88      0.91      3789\n",
      "\n",
      "    accuracy                           0.91      7578\n",
      "   macro avg       0.91      0.91      0.91      7578\n",
      "weighted avg       0.91      0.91      0.91      7578\n",
      "\n"
     ]
    }
   ],
   "source": [
    "#Good ness of fit metrics based on categorical predicted output for train & test\n",
    "print(metrics.classification_report(y_test, y_pred_class))"
   ]
  },
  {
   "cell_type": "code",
   "execution_count": 38,
   "metadata": {},
   "outputs": [],
   "source": [
    "fpr_test,tpr_test,treshold_test = metrics.roc_curve(y_test,y_pred_class)\n",
    "roc_auc_test = metrics.auc(fpr_test,tpr_test)"
   ]
  },
  {
   "cell_type": "code",
   "execution_count": 39,
   "metadata": {},
   "outputs": [
    {
     "data": {
      "image/png": "[encoded data removed]",
      "text/plain": [
       "<Figure size 432x288 with 1 Axes>"
      ]
     },
     "metadata": {
      "needs_background": "light"
     },
     "output_type": "display_data"
    }
   ],
   "source": [
    "#Test AUC\n",
    "plt.title('ROC Curve')\n",
    "plt.plot(fpr_test,tpr_test,'b',label = 'AUC = %0.2f' % roc_auc_test)\n",
    "plt.legend(loc = 'lower right')\n",
    "plt.plot([0,1],[0,1],'r--')\n",
    "plt.xlim([0,1])\n",
    "plt.ylim([0,1])\n",
    "plt.xlabel('False Positive Rate')\n",
    "plt.ylabel('True Positive Rate')\n",
    "plt.show()"
   ]
  },
  {
   "cell_type": "code",
   "execution_count": 40,
   "metadata": {},
   "outputs": [
    {
     "data": {
      "text/plain": [
       "Text(0.5, 16.0, 'Predicted Class')"
      ]
     },
     "execution_count": 40,
     "metadata": {},
     "output_type": "execute_result"
    },
    {
     "data": {
      "image/png": "[encoded data removed]",
      "text/plain": [
       "<Figure size 432x288 with 2 Axes>"
      ]
     },
     "metadata": {
      "needs_background": "light"
     },
     "output_type": "display_data"
    }
   ],
   "source": [
    "#Confusion matrix\n",
    "final_cm = (metrics.confusion_matrix(y_pred_class,y_test))\n",
    "sns.heatmap(final_cm,annot = True, cmap = 'Reds',fmt = 'd')\n",
    "plt.ylabel('True Class')\n",
    "plt.xlabel('Predicted Class')"
   ]
  },
  {
   "cell_type": "code",
   "execution_count": 41,
   "metadata": {},
   "outputs": [
    {
     "data": {
      "text/plain": [
       "XGBClassifier(learning_rate=0.5, n_estimators=400, n_jobs=-1, random_state=1137)"
      ]
     },
     "execution_count": 41,
     "metadata": {},
     "output_type": "execute_result"
    }
   ],
   "source": [
    "#Classification using XGB Classifier\n",
    "xgb_estimator = XGBClassifier(n_estimators = 400,\n",
    "                         random_state = 1137,\n",
    "                        n_jobs=-1,learning_rate = 0.5)\n",
    "xgb_estimator.fit(X_train, y_train)"
   ]
  },
  {
   "cell_type": "code",
   "execution_count": 42,
   "metadata": {},
   "outputs": [
    {
     "data": {
      "text/plain": [
       "0.999694403213132"
      ]
     },
     "execution_count": 42,
     "metadata": {},
     "output_type": "execute_result"
    }
   ],
   "source": [
    "#Accuracy on train data\n",
    "xgb_estimator.score(X_train, y_train)"
   ]
  },
  {
   "cell_type": "code",
   "execution_count": 55,
   "metadata": {},
   "outputs": [
    {
     "name": "stdout",
     "output_type": "stream",
     "text": [
      "Accuracy using XGB Classifier is 0.930588545790446\n"
     ]
    }
   ],
   "source": [
    "#Predicting on test data\n",
    "y_pred_class = xgb_estimator.predict(X_test)\n",
    "print('Accuracy using XGB Classifier is',metrics.accuracy_score(y_test, y_pred_class))"
   ]
  },
  {
   "cell_type": "code",
   "execution_count": 44,
   "metadata": {},
   "outputs": [
    {
     "name": "stdout",
     "output_type": "stream",
     "text": [
      "              precision    recall  f1-score   support\n",
      "\n",
      "       False       0.90      0.97      0.93      3789\n",
      "        True       0.97      0.89      0.93      3789\n",
      "\n",
      "    accuracy                           0.93      7578\n",
      "   macro avg       0.93      0.93      0.93      7578\n",
      "weighted avg       0.93      0.93      0.93      7578\n",
      "\n"
     ]
    }
   ],
   "source": [
    "#Good ness of fit metrics based on categorical predicted output for train & test\n",
    "print(metrics.classification_report(y_test, y_pred_class))"
   ]
  },
  {
   "cell_type": "code",
   "execution_count": 45,
   "metadata": {},
   "outputs": [],
   "source": [
    "fpr_test,tpr_test,treshold_test = metrics.roc_curve(y_test,y_pred_class)\n",
    "roc_auc_test = metrics.auc(fpr_test,tpr_test)"
   ]
  },
  {
   "cell_type": "code",
   "execution_count": 46,
   "metadata": {},
   "outputs": [
    {
     "data": {
      "image/png": "[encoded data removed]",
      "text/plain": [
       "<Figure size 432x288 with 1 Axes>"
      ]
     },
     "metadata": {
      "needs_background": "light"
     },
     "output_type": "display_data"
    }
   ],
   "source": [
    "#Test AUC\n",
    "plt.title('ROC Curve')\n",
    "plt.plot(fpr_test,tpr_test,'b',label = 'AUC = %0.2f' % roc_auc_test)\n",
    "plt.legend(loc = 'lower right')\n",
    "plt.plot([0,1],[0,1],'r--')\n",
    "plt.xlim([0,1])\n",
    "plt.ylim([0,1])\n",
    "plt.xlabel('False Positive Rate')\n",
    "plt.ylabel('True Positive Rate')\n",
    "plt.show()"
   ]
  },
  {
   "cell_type": "code",
   "execution_count": 47,
   "metadata": {},
   "outputs": [
    {
     "data": {
      "text/plain": [
       "Text(0.5, 16.0, 'Predicted Class')"
      ]
     },
     "execution_count": 47,
     "metadata": {},
     "output_type": "execute_result"
    },
    {
     "data": {
      "image/png": "[encoded data removed]",
      "text/plain": [
       "<Figure size 432x288 with 2 Axes>"
      ]
     },
     "metadata": {
      "needs_background": "light"
     },
     "output_type": "display_data"
    }
   ],
   "source": [
    "#Confusion matrix\n",
    "final_cm = (metrics.confusion_matrix(y_pred_class,y_test))\n",
    "sns.heatmap(final_cm,annot = True, cmap = 'Blues',fmt = 'd')\n",
    "plt.ylabel('True Class')\n",
    "plt.xlabel('Predicted Class')"
   ]
  },
  {
   "cell_type": "code",
   "execution_count": 145,
   "metadata": {},
   "outputs": [
    {
     "name": "stdout",
     "output_type": "stream",
     "text": [
      "Fitting 10 folds for each of 120 candidates, totalling 1200 fits\n"
     ]
    },
    {
     "name": "stderr",
     "output_type": "stream",
     "text": [
      "[Parallel(n_jobs=-1)]: Using backend LokyBackend with 4 concurrent workers.\n",
      "[Parallel(n_jobs=-1)]: Done  42 tasks      | elapsed:   39.2s\n",
      "[Parallel(n_jobs=-1)]: Done 192 tasks      | elapsed:  3.6min\n",
      "[Parallel(n_jobs=-1)]: Done 442 tasks      | elapsed:  9.2min\n",
      "[Parallel(n_jobs=-1)]: Done 792 tasks      | elapsed: 19.3min\n",
      "[Parallel(n_jobs=-1)]: Done 1200 out of 1200 | elapsed: 35.5min finished\n"
     ]
    }
   ],
   "source": [
    "#Classification using RF Classifier and gridsearch\n",
    "param_grid = {'max_depth': [5,6,7,8,9], 'n_estimators':[50,100,200,300,400,500], 'max_features':[4,5,6,7]}\n",
    "RF_GCV_model = GridSearchCV(ensemble.RandomForestClassifier(), param_grid, cv = 10,n_jobs = -1,verbose = 1)\n",
    "RF_GCV_model = RF_GCV_model.fit(X_train, y_train)"
   ]
  },
  {
   "cell_type": "code",
   "execution_count": 147,
   "metadata": {},
   "outputs": [
    {
     "data": {
      "text/plain": [
       "0.9091943221910685"
      ]
     },
     "execution_count": 147,
     "metadata": {},
     "output_type": "execute_result"
    }
   ],
   "source": [
    "RF_GCV_model.best_score_"
   ]
  },
  {
   "cell_type": "code",
   "execution_count": 148,
   "metadata": {},
   "outputs": [
    {
     "data": {
      "text/plain": [
       "0.9149131231991617"
      ]
     },
     "execution_count": 148,
     "metadata": {},
     "output_type": "execute_result"
    }
   ],
   "source": [
    "#Accuracy on train data\n",
    "RF_GCV_model.score(X_train, y_train)"
   ]
  },
  {
   "cell_type": "code",
   "execution_count": 149,
   "metadata": {},
   "outputs": [
    {
     "name": "stdout",
     "output_type": "stream",
     "text": [
      "Accuracy using RF Classifier is 0.8991818421747163\n"
     ]
    }
   ],
   "source": [
    "#Predicting on test data\n",
    "y_pred_class = RF_GCV_model.predict(X_test)\n",
    "print('Accuracy using RF Classifier is',metrics.accuracy_score(y_test, y_pred_class))"
   ]
  },
  {
   "cell_type": "code",
   "execution_count": 150,
   "metadata": {},
   "outputs": [
    {
     "name": "stdout",
     "output_type": "stream",
     "text": [
      "              precision    recall  f1-score   support\n",
      "\n",
      "       False       0.87      0.93      0.90      3789\n",
      "        True       0.93      0.86      0.90      3789\n",
      "\n",
      "    accuracy                           0.90      7578\n",
      "   macro avg       0.90      0.90      0.90      7578\n",
      "weighted avg       0.90      0.90      0.90      7578\n",
      "\n"
     ]
    }
   ],
   "source": [
    "#Good ness of fit metrics based on categorical predicted output for train & test\n",
    "print(metrics.classification_report(y_test, y_pred_class))"
   ]
  },
  {
   "cell_type": "code",
   "execution_count": 151,
   "metadata": {},
   "outputs": [],
   "source": [
    "fpr_test,tpr_test,treshold_test = metrics.roc_curve(y_test,y_pred_class)\n",
    "roc_auc_test = metrics.auc(fpr_test,tpr_test)"
   ]
  },
  {
   "cell_type": "code",
   "execution_count": 152,
   "metadata": {},
   "outputs": [
    {
     "data": {
      "image/png": "[encoded data removed]",
      "text/plain": [
       "<Figure size 432x288 with 1 Axes>"
      ]
     },
     "metadata": {
      "needs_background": "light"
     },
     "output_type": "display_data"
    }
   ],
   "source": [
    "#Test AUC\n",
    "plt.title('ROC Curve')\n",
    "plt.plot(fpr_test,tpr_test,'b',label = 'AUC = %0.2f' % roc_auc_test)\n",
    "plt.legend(loc = 'lower right')\n",
    "plt.plot([0,1],[0,1],'r--')\n",
    "plt.xlim([0,1])\n",
    "plt.ylim([0,1])\n",
    "plt.xlabel('False Positive Rate')\n",
    "plt.ylabel('True Positive Rate')\n",
    "plt.show()"
   ]
  },
  {
   "cell_type": "code",
   "execution_count": 161,
   "metadata": {},
   "outputs": [
    {
     "data": {
      "text/plain": [
       "Text(0.5, 16.0, 'Predicted Class')"
      ]
     },
     "execution_count": 161,
     "metadata": {},
     "output_type": "execute_result"
    },
    {
     "data": {
      "image/png": "[encoded data removed]",
      "text/plain": [
       "<Figure size 432x288 with 2 Axes>"
      ]
     },
     "metadata": {
      "needs_background": "light"
     },
     "output_type": "display_data"
    }
   ],
   "source": [
    "#Confusion matrix\n",
    "final_cm = (metrics.confusion_matrix(y_pred_class,y_test))\n",
    "sns.heatmap(final_cm,annot = True, cmap = 'Oranges',fmt = 'd')\n",
    "plt.ylabel('True Class')\n",
    "plt.xlabel('Predicted Class')"
   ]
  },
  {
   "cell_type": "code",
   "execution_count": 48,
   "metadata": {},
   "outputs": [
    {
     "data": {
      "text/plain": [
       "MultinomialNB()"
      ]
     },
     "execution_count": 48,
     "metadata": {},
     "output_type": "execute_result"
    }
   ],
   "source": [
    "#Classification using Naive Bayes\n",
    "nb_clf = naive_bayes.MultinomialNB()\n",
    "nb_clf.fit(X_train, y_train)"
   ]
  },
  {
   "cell_type": "code",
   "execution_count": 49,
   "metadata": {},
   "outputs": [
    {
     "data": {
      "text/plain": [
       "0.8930411245961757"
      ]
     },
     "execution_count": 49,
     "metadata": {},
     "output_type": "execute_result"
    }
   ],
   "source": [
    "#Accuracy on train data\n",
    "nb_clf.score(X_train, y_train)"
   ]
  },
  {
   "cell_type": "code",
   "execution_count": 50,
   "metadata": {},
   "outputs": [
    {
     "name": "stdout",
     "output_type": "stream",
     "text": [
      "Accuracy using Naive Bayes Classifier is 0.9034045922406968\n"
     ]
    }
   ],
   "source": [
    "#Predicting on test data\n",
    "y_pred_class = nb_clf.predict(X_test)\n",
    "print('Accuracy using Naive Bayes Classifier is',metrics.accuracy_score(y_test, y_pred_class))"
   ]
  },
  {
   "cell_type": "code",
   "execution_count": 51,
   "metadata": {},
   "outputs": [
    {
     "name": "stdout",
     "output_type": "stream",
     "text": [
      "              precision    recall  f1-score   support\n",
      "\n",
      "       False       0.90      0.90      0.90      3789\n",
      "        True       0.90      0.90      0.90      3789\n",
      "\n",
      "    accuracy                           0.90      7578\n",
      "   macro avg       0.90      0.90      0.90      7578\n",
      "weighted avg       0.90      0.90      0.90      7578\n",
      "\n"
     ]
    }
   ],
   "source": [
    "#Good ness of fit metrics based on categorical predicted output for train & test\n",
    "print(metrics.classification_report(y_test, y_pred_class))"
   ]
  },
  {
   "cell_type": "code",
   "execution_count": 52,
   "metadata": {},
   "outputs": [],
   "source": [
    "fpr_test,tpr_test,treshold_test = metrics.roc_curve(y_test,y_pred_class)\n",
    "roc_auc_test = metrics.auc(fpr_test,tpr_test)"
   ]
  },
  {
   "cell_type": "code",
   "execution_count": 53,
   "metadata": {},
   "outputs": [
    {
     "data": {
      "image/png": "[encoded data removed]",
      "text/plain": [
       "<Figure size 432x288 with 1 Axes>"
      ]
     },
     "metadata": {
      "needs_background": "light"
     },
     "output_type": "display_data"
    }
   ],
   "source": [
    "#Test AUC\n",
    "plt.title('ROC Curve')\n",
    "plt.plot(fpr_test,tpr_test,'b',label = 'AUC = %0.2f' % roc_auc_test)\n",
    "plt.legend(loc = 'lower right')\n",
    "plt.plot([0,1],[0,1],'r--')\n",
    "plt.xlim([0,1])\n",
    "plt.ylim([0,1])\n",
    "plt.xlabel('False Positive Rate')\n",
    "plt.ylabel('True Positive Rate')\n",
    "plt.show()"
   ]
  },
  {
   "cell_type": "code",
   "execution_count": 54,
   "metadata": {},
   "outputs": [
    {
     "data": {
      "text/plain": [
       "Text(0.5, 16.0, 'Predicted Class')"
      ]
     },
     "execution_count": 54,
     "metadata": {},
     "output_type": "execute_result"
    },
    {
     "data": {
      "image/png": "[encoded data removed]",
      "text/plain": [
       "<Figure size 432x288 with 2 Axes>"
      ]
     },
     "metadata": {
      "needs_background": "light"
     },
     "output_type": "display_data"
    }
   ],
   "source": [
    "#Confusion matrix\n",
    "final_cm = (metrics.confusion_matrix(y_pred_class,y_test))\n",
    "sns.heatmap(final_cm,annot = True, cmap = 'Greens',fmt = 'd')\n",
    "plt.ylabel('True Class')\n",
    "plt.xlabel('Predicted Class')"
   ]
  },
  {
   "cell_type": "markdown",
   "metadata": {},
   "source": [
    "## Of all the above built classification models, XGB classification model gave me the best accuracy of 99% on train data and on the test data it gave me 93% accuracy.So i would go ahead with XGB classification model for further classification in the future."
   ]
  },
  {
   "cell_type": "raw",
   "metadata": {},
   "source": []
  },
  {
   "cell_type": "code",
   "execution_count": null,
   "metadata": {},
   "outputs": [],
   "source": [
    "# Importing the Keras libraries and packages\n",
    "import keras\n",
    "from keras.models import Sequential\n",
    "from keras.layers import Dense"
   ]
  },
  {
   "cell_type": "code",
   "execution_count": null,
   "metadata": {},
   "outputs": [],
   "source": [
    "#Initializing Neural Network\n",
    "classifier = Sequential()"
   ]
  },
  {
   "cell_type": "code",
   "execution_count": null,
   "metadata": {},
   "outputs": [],
   "source": [
    "# Adding the input layer and the first hidden layer\n",
    "classifier.add(Dense(output_dim = 30, init = 'uniform', activation = 'relu', input_dim = 24))\n",
    "# Adding the second hidden layer\n",
    "classifier.add(Dense(output_dim = 30, init = 'uniform', activation = 'relu'))\n",
    "# Adding the output layer\n",
    "classifier.add(Dense(output_dim = 1, init = 'uniform', activation = 'sigmoid'))"
   ]
  },
  {
   "cell_type": "code",
   "execution_count": null,
   "metadata": {},
   "outputs": [],
   "source": [
    "# Compiling Neural Network\n",
    "classifier.compile(optimizer = 'adam', loss = 'binary_crossentropy', metrics = ['accuracy'])"
   ]
  },
  {
   "cell_type": "code",
   "execution_count": null,
   "metadata": {},
   "outputs": [],
   "source": [
    "# Fitting our model \n",
    "classifier.fit(std_data_train, train_y, batch_size = 10, nb_epoch = 100)"
   ]
  },
  {
   "cell_type": "code",
   "execution_count": null,
   "metadata": {},
   "outputs": [],
   "source": [
    "classifier.summary()"
   ]
  },
  {
   "cell_type": "code",
   "execution_count": null,
   "metadata": {},
   "outputs": [],
   "source": [
    "classifier.get_weights()"
   ]
  },
  {
   "cell_type": "code",
   "execution_count": null,
   "metadata": {},
   "outputs": [],
   "source": [
    "# Predicting the Train set results\n",
    "y_pred_train = classifier.predict(std_data_train)"
   ]
  },
  {
   "cell_type": "code",
   "execution_count": null,
   "metadata": {},
   "outputs": [],
   "source": [
    "y_pred_train = (y_pred_train > 0.11)"
   ]
  },
  {
   "cell_type": "code",
   "execution_count": null,
   "metadata": {},
   "outputs": [],
   "source": [
    "# Creating the Confusion Matrix\n",
    "cm_train = confusion_matrix(train_y, y_pred_train)"
   ]
  },
  {
   "cell_type": "code",
   "execution_count": null,
   "metadata": {},
   "outputs": [],
   "source": [
    "cm_train"
   ]
  },
  {
   "cell_type": "code",
   "execution_count": null,
   "metadata": {},
   "outputs": [],
   "source": [
    "print(classification_report(train_y, y_pred_train))"
   ]
  },
  {
   "cell_type": "code",
   "execution_count": null,
   "metadata": {},
   "outputs": [],
   "source": [
    "# Predicting the Test set results\n",
    "y_pred = classifier.predict(std_data_test)\n",
    "y_pred = (y_pred > 0.11)"
   ]
  },
  {
   "cell_type": "code",
   "execution_count": null,
   "metadata": {},
   "outputs": [],
   "source": [
    "# Creating the Confusion Matrix\n",
    "cm = confusion_matrix(test_y, y_pred)"
   ]
  },
  {
   "cell_type": "code",
   "execution_count": null,
   "metadata": {},
   "outputs": [],
   "source": [
    "cm"
   ]
  },
  {
   "cell_type": "code",
   "execution_count": null,
   "metadata": {},
   "outputs": [],
   "source": [
    "print(classification_report(test_y, y_pred))"
   ]
  },
  {
   "cell_type": "markdown",
   "metadata": {},
   "source": [
    "# Cluster Analysis"
   ]
  },
  {
   "cell_type": "code",
   "execution_count": 59,
   "metadata": {},
   "outputs": [
    {
     "name": "stderr",
     "output_type": "stream",
     "text": [
      "C:\\Users\\PHANI KUMAR\\AppData\\Roaming\\Python\\Python37\\site-packages\\sklearn\\cluster\\_kmeans.py:974: FutureWarning: 'n_jobs' was deprecated in version 0.23 and will be removed in 0.25.\n",
      "  \" removed in 0.25.\", FutureWarning)\n",
      "C:\\Users\\PHANI KUMAR\\AppData\\Roaming\\Python\\Python37\\site-packages\\sklearn\\cluster\\_kmeans.py:974: FutureWarning: 'n_jobs' was deprecated in version 0.23 and will be removed in 0.25.\n",
      "  \" removed in 0.25.\", FutureWarning)\n",
      "C:\\Users\\PHANI KUMAR\\AppData\\Roaming\\Python\\Python37\\site-packages\\sklearn\\cluster\\_kmeans.py:974: FutureWarning: 'n_jobs' was deprecated in version 0.23 and will be removed in 0.25.\n",
      "  \" removed in 0.25.\", FutureWarning)\n",
      "C:\\Users\\PHANI KUMAR\\AppData\\Roaming\\Python\\Python37\\site-packages\\sklearn\\cluster\\_kmeans.py:974: FutureWarning: 'n_jobs' was deprecated in version 0.23 and will be removed in 0.25.\n",
      "  \" removed in 0.25.\", FutureWarning)\n",
      "C:\\Users\\PHANI KUMAR\\AppData\\Roaming\\Python\\Python37\\site-packages\\sklearn\\cluster\\_kmeans.py:974: FutureWarning: 'n_jobs' was deprecated in version 0.23 and will be removed in 0.25.\n",
      "  \" removed in 0.25.\", FutureWarning)\n",
      "C:\\Users\\PHANI KUMAR\\AppData\\Roaming\\Python\\Python37\\site-packages\\sklearn\\cluster\\_kmeans.py:974: FutureWarning: 'n_jobs' was deprecated in version 0.23 and will be removed in 0.25.\n",
      "  \" removed in 0.25.\", FutureWarning)\n",
      "C:\\Users\\PHANI KUMAR\\AppData\\Roaming\\Python\\Python37\\site-packages\\sklearn\\cluster\\_kmeans.py:974: FutureWarning: 'n_jobs' was deprecated in version 0.23 and will be removed in 0.25.\n",
      "  \" removed in 0.25.\", FutureWarning)\n",
      "C:\\Users\\PHANI KUMAR\\AppData\\Roaming\\Python\\Python37\\site-packages\\sklearn\\cluster\\_kmeans.py:974: FutureWarning: 'n_jobs' was deprecated in version 0.23 and will be removed in 0.25.\n",
      "  \" removed in 0.25.\", FutureWarning)\n",
      "C:\\Users\\PHANI KUMAR\\AppData\\Roaming\\Python\\Python37\\site-packages\\sklearn\\cluster\\_kmeans.py:974: FutureWarning: 'n_jobs' was deprecated in version 0.23 and will be removed in 0.25.\n",
      "  \" removed in 0.25.\", FutureWarning)\n",
      "C:\\Users\\PHANI KUMAR\\AppData\\Roaming\\Python\\Python37\\site-packages\\sklearn\\cluster\\_kmeans.py:974: FutureWarning: 'n_jobs' was deprecated in version 0.23 and will be removed in 0.25.\n",
      "  \" removed in 0.25.\", FutureWarning)\n"
     ]
    },
    {
     "data": {
      "image/png": "[encoded data removed]",
      "text/plain": [
       "<Figure size 432x288 with 1 Axes>"
      ]
     },
     "metadata": {
      "needs_background": "light"
     },
     "output_type": "display_data"
    }
   ],
   "source": [
    "#Elbow method for k value estimation for K - means\n",
    "Distortion = []\n",
    "for i in range(1,11):\n",
    "    KM = KMeans(n_clusters = i,max_iter = 500,n_jobs = -1)\n",
    "    KM.fit(xtrain_count)\n",
    "    \n",
    "    Distortion.append(KM.inertia_)\n",
    "\n",
    "plt.plot(range(1,11),cost,marker = 'o')\n",
    "plt.xlabel('Number of Clusters')\n",
    "plt.ylabel('Distortion')\n",
    "plt.show()"
   ]
  },
  {
   "cell_type": "markdown",
   "metadata": {},
   "source": [
    "### Optimum value of K is 3"
   ]
  },
  {
   "cell_type": "code",
   "execution_count": 60,
   "metadata": {},
   "outputs": [
    {
     "name": "stderr",
     "output_type": "stream",
     "text": [
      "C:\\Users\\PHANI KUMAR\\AppData\\Roaming\\Python\\Python37\\site-packages\\sklearn\\cluster\\_kmeans.py:974: FutureWarning: 'n_jobs' was deprecated in version 0.23 and will be removed in 0.25.\n",
      "  \" removed in 0.25.\", FutureWarning)\n"
     ]
    },
    {
     "data": {
      "text/plain": [
       "KMeans(max_iter=100, n_clusters=3, n_init=1, n_jobs=-1)"
      ]
     },
     "execution_count": 60,
     "metadata": {},
     "output_type": "execute_result"
    }
   ],
   "source": [
    "k_val = 3\n",
    "km_mod = KMeans(n_clusters = k_val, init = 'k-means++', max_iter = 100, n_init=1,n_jobs = -1)\n",
    "km_mod.fit(xtrain_count)"
   ]
  },
  {
   "cell_type": "code",
   "execution_count": 61,
   "metadata": {},
   "outputs": [
    {
     "name": "stdout",
     "output_type": "stream",
     "text": [
      "Top terms per cluster:\n",
      "----------------------\n",
      "-----------\n",
      "Cluster 0:\n",
      "-----------\n",
      " job\n",
      " application\n",
      " mention\n",
      " please\n",
      " website\n",
      " opportunity\n",
      " wwwcareercenteram\n",
      " armenia\n",
      " knowledge\n",
      " company\n",
      "-----------\n",
      "Cluster 1:\n",
      "-----------\n",
      " application\n",
      " job\n",
      " experience\n",
      " knowledge\n",
      " software\n",
      " development\n",
      " please\n",
      " website\n",
      " mention\n",
      " company\n",
      "-----------\n",
      "Cluster 2:\n",
      "-----------\n",
      " project\n",
      " armenia\n",
      " application\n",
      " job\n",
      " development\n",
      " experience\n",
      " work\n",
      " management\n",
      " organization\n",
      " skill\n"
     ]
    }
   ],
   "source": [
    "print(\"Top terms per cluster:\")\n",
    "print('----------------------')\n",
    "order_centroids = km_mod.cluster_centers_.argsort()[:, ::-1]\n",
    "terms = count_vect.get_feature_names()\n",
    "for i in range(k_val):\n",
    "    print('-----------')\n",
    "    print(\"Cluster %d:\" % i),\n",
    "    print('-----------')\n",
    "    for ind in order_centroids[i, :10]:\n",
    "        print(' %s' % terms[ind]),"
   ]
  },
  {
   "cell_type": "markdown",
   "metadata": {},
   "source": [
    "## Topic Mining"
   ]
  },
  {
   "cell_type": "code",
   "execution_count": 63,
   "metadata": {},
   "outputs": [],
   "source": [
    "X_train_tokens = [doc.split() for doc in lda_Train]"
   ]
  },
  {
   "cell_type": "code",
   "execution_count": 64,
   "metadata": {},
   "outputs": [],
   "source": [
    "dictionary = corpora.Dictionary(X_train_tokens)"
   ]
  },
  {
   "cell_type": "code",
   "execution_count": 65,
   "metadata": {},
   "outputs": [],
   "source": [
    "doc_term_matrix = [dictionary.doc2bow(doc) for doc in X_train_tokens]"
   ]
  },
  {
   "cell_type": "code",
   "execution_count": 66,
   "metadata": {},
   "outputs": [
    {
     "name": "stderr",
     "output_type": "stream",
     "text": [
      "WARNING:gensim.models.ldamodel:too few updates, training might not converge; consider increasing the number of passes or iterations to improve accuracy\n"
     ]
    }
   ],
   "source": [
    "# Creating the object for LDA model using gensim library\n",
    "Lda = gensim.models.ldamodel.LdaModel\n",
    "# Running and Training LDA model on the document term matrix.\n",
    "ldamodel = Lda(doc_term_matrix, num_topics = 11, id2word = dictionary, passes = 1)\n",
    "topics = ldamodel.show_topics(formatted = False, num_words = 100)"
   ]
  },
  {
   "cell_type": "code",
   "execution_count": 67,
   "metadata": {},
   "outputs": [
    {
     "data": {
      "text/plain": [
       "array([[3.73134340e-04, 3.73134335e-04, 8.66001153e-02, ...,\n",
       "        3.73134337e-04, 3.73134335e-04, 3.73134336e-04],\n",
       "       [1.71821310e-04, 2.61693816e-01, 1.71821310e-04, ...,\n",
       "        1.71821309e-04, 1.71821309e-04, 1.71821309e-04],\n",
       "       [1.08307347e-01, 3.67647065e-04, 3.14173365e-01, ...,\n",
       "        3.67647066e-04, 3.67647068e-04, 3.67647065e-04],\n",
       "       ...,\n",
       "       [2.46305425e-04, 3.65715232e-01, 4.68054405e-01, ...,\n",
       "        2.46305424e-04, 2.46305424e-04, 2.46305424e-04],\n",
       "       [3.03951210e-02, 6.58608151e-01, 8.25082525e-05, ...,\n",
       "        8.25082524e-05, 8.53399872e-03, 8.25082525e-05],\n",
       "       [3.10559014e-04, 3.10559013e-04, 2.98393364e-01, ...,\n",
       "        3.10559012e-04, 3.10559012e-04, 3.10559013e-04]])"
      ]
     },
     "execution_count": 67,
     "metadata": {},
     "output_type": "execute_result"
    }
   ],
   "source": [
    "#Build LDA Model\n",
    "lda_model = decomposition.LatentDirichletAllocation(n_components = 20, max_iter = 10, learning_decay = 0.9,\n",
    "                                                    learning_method = 'online', random_state = 1137,\n",
    "                                                    batch_size = 128, evaluate_every = -1, n_jobs = -1)\n",
    "lda_model.fit_transform(xtrain_count)"
   ]
  },
  {
   "cell_type": "code",
   "execution_count": 68,
   "metadata": {},
   "outputs": [
    {
     "name": "stdout",
     "output_type": "stream",
     "text": [
      "Log Likelihood:  -15724309.10080932\n",
      "Perplexity:  332.3906993612703\n"
     ]
    }
   ],
   "source": [
    "# Log Likelyhood: Higher the better\n",
    "print(\"Log Likelihood: \", lda_model.score(xtrain_count))\n",
    "\n",
    "# Perplexity: Lower the better. Perplexity = exp(-1. * log-likelihood per word)\n",
    "print(\"Perplexity: \", lda_model.perplexity(xtrain_count))"
   ]
  },
  {
   "cell_type": "code",
   "execution_count": 69,
   "metadata": {},
   "outputs": [],
   "source": [
    "lda_model.n_components = 20"
   ]
  },
  {
   "cell_type": "code",
   "execution_count": 70,
   "metadata": {},
   "outputs": [
    {
     "data": {
      "text/html": [
       "<div>\n",
       "<style scoped>\n",
       "    .dataframe tbody tr th:only-of-type {\n",
       "        vertical-align: middle;\n",
       "    }\n",
       "\n",
       "    .dataframe tbody tr th {\n",
       "        vertical-align: top;\n",
       "    }\n",
       "\n",
       "    .dataframe thead th {\n",
       "        text-align: right;\n",
       "    }\n",
       "</style>\n",
       "<table border=\"1\" class=\"dataframe\">\n",
       "  <thead>\n",
       "    <tr style=\"text-align: right;\">\n",
       "      <th></th>\n",
       "      <th>Topic0</th>\n",
       "      <th>Topic1</th>\n",
       "      <th>Topic2</th>\n",
       "      <th>Topic3</th>\n",
       "      <th>Topic4</th>\n",
       "      <th>Topic5</th>\n",
       "      <th>Topic6</th>\n",
       "      <th>Topic7</th>\n",
       "      <th>Topic8</th>\n",
       "      <th>Topic9</th>\n",
       "      <th>...</th>\n",
       "      <th>Topic11</th>\n",
       "      <th>Topic12</th>\n",
       "      <th>Topic13</th>\n",
       "      <th>Topic14</th>\n",
       "      <th>Topic15</th>\n",
       "      <th>Topic16</th>\n",
       "      <th>Topic17</th>\n",
       "      <th>Topic18</th>\n",
       "      <th>Topic19</th>\n",
       "      <th>dominant_topic</th>\n",
       "    </tr>\n",
       "  </thead>\n",
       "  <tbody>\n",
       "    <tr>\n",
       "      <th>Doc0</th>\n",
       "      <td>0.00</td>\n",
       "      <td>0.00</td>\n",
       "      <td>0.09</td>\n",
       "      <td>0.84</td>\n",
       "      <td>0.0</td>\n",
       "      <td>0.07</td>\n",
       "      <td>0.00</td>\n",
       "      <td>0.0</td>\n",
       "      <td>0.0</td>\n",
       "      <td>0.0</td>\n",
       "      <td>...</td>\n",
       "      <td>0.00</td>\n",
       "      <td>0.00</td>\n",
       "      <td>0.00</td>\n",
       "      <td>0.00</td>\n",
       "      <td>0.00</td>\n",
       "      <td>0.00</td>\n",
       "      <td>0.00</td>\n",
       "      <td>0.0</td>\n",
       "      <td>0.0</td>\n",
       "      <td>3</td>\n",
       "    </tr>\n",
       "    <tr>\n",
       "      <th>Doc1</th>\n",
       "      <td>0.00</td>\n",
       "      <td>0.26</td>\n",
       "      <td>0.00</td>\n",
       "      <td>0.00</td>\n",
       "      <td>0.0</td>\n",
       "      <td>0.00</td>\n",
       "      <td>0.03</td>\n",
       "      <td>0.0</td>\n",
       "      <td>0.0</td>\n",
       "      <td>0.0</td>\n",
       "      <td>...</td>\n",
       "      <td>0.53</td>\n",
       "      <td>0.05</td>\n",
       "      <td>0.12</td>\n",
       "      <td>0.00</td>\n",
       "      <td>0.00</td>\n",
       "      <td>0.01</td>\n",
       "      <td>0.00</td>\n",
       "      <td>0.0</td>\n",
       "      <td>0.0</td>\n",
       "      <td>11</td>\n",
       "    </tr>\n",
       "    <tr>\n",
       "      <th>Doc2</th>\n",
       "      <td>0.11</td>\n",
       "      <td>0.00</td>\n",
       "      <td>0.31</td>\n",
       "      <td>0.00</td>\n",
       "      <td>0.0</td>\n",
       "      <td>0.00</td>\n",
       "      <td>0.00</td>\n",
       "      <td>0.0</td>\n",
       "      <td>0.0</td>\n",
       "      <td>0.0</td>\n",
       "      <td>...</td>\n",
       "      <td>0.00</td>\n",
       "      <td>0.00</td>\n",
       "      <td>0.43</td>\n",
       "      <td>0.00</td>\n",
       "      <td>0.14</td>\n",
       "      <td>0.00</td>\n",
       "      <td>0.00</td>\n",
       "      <td>0.0</td>\n",
       "      <td>0.0</td>\n",
       "      <td>13</td>\n",
       "    </tr>\n",
       "    <tr>\n",
       "      <th>Doc3</th>\n",
       "      <td>0.00</td>\n",
       "      <td>0.00</td>\n",
       "      <td>0.00</td>\n",
       "      <td>0.00</td>\n",
       "      <td>0.0</td>\n",
       "      <td>0.00</td>\n",
       "      <td>0.00</td>\n",
       "      <td>0.0</td>\n",
       "      <td>0.0</td>\n",
       "      <td>0.0</td>\n",
       "      <td>...</td>\n",
       "      <td>0.00</td>\n",
       "      <td>0.35</td>\n",
       "      <td>0.00</td>\n",
       "      <td>0.00</td>\n",
       "      <td>0.00</td>\n",
       "      <td>0.00</td>\n",
       "      <td>0.65</td>\n",
       "      <td>0.0</td>\n",
       "      <td>0.0</td>\n",
       "      <td>17</td>\n",
       "    </tr>\n",
       "    <tr>\n",
       "      <th>Doc4</th>\n",
       "      <td>0.00</td>\n",
       "      <td>0.00</td>\n",
       "      <td>0.22</td>\n",
       "      <td>0.00</td>\n",
       "      <td>0.0</td>\n",
       "      <td>0.17</td>\n",
       "      <td>0.00</td>\n",
       "      <td>0.0</td>\n",
       "      <td>0.0</td>\n",
       "      <td>0.0</td>\n",
       "      <td>...</td>\n",
       "      <td>0.00</td>\n",
       "      <td>0.00</td>\n",
       "      <td>0.00</td>\n",
       "      <td>0.06</td>\n",
       "      <td>0.00</td>\n",
       "      <td>0.03</td>\n",
       "      <td>0.00</td>\n",
       "      <td>0.0</td>\n",
       "      <td>0.0</td>\n",
       "      <td>10</td>\n",
       "    </tr>\n",
       "  </tbody>\n",
       "</table>\n",
       "<p>5 rows × 21 columns</p>\n",
       "</div>"
      ],
      "text/plain": [
       "      Topic0  Topic1  Topic2  Topic3  Topic4  Topic5  Topic6  Topic7  Topic8  \\\n",
       "Doc0    0.00    0.00    0.09    0.84     0.0    0.07    0.00     0.0     0.0   \n",
       "Doc1    0.00    0.26    0.00    0.00     0.0    0.00    0.03     0.0     0.0   \n",
       "Doc2    0.11    0.00    0.31    0.00     0.0    0.00    0.00     0.0     0.0   \n",
       "Doc3    0.00    0.00    0.00    0.00     0.0    0.00    0.00     0.0     0.0   \n",
       "Doc4    0.00    0.00    0.22    0.00     0.0    0.17    0.00     0.0     0.0   \n",
       "\n",
       "      Topic9  ...  Topic11  Topic12  Topic13  Topic14  Topic15  Topic16  \\\n",
       "Doc0     0.0  ...     0.00     0.00     0.00     0.00     0.00     0.00   \n",
       "Doc1     0.0  ...     0.53     0.05     0.12     0.00     0.00     0.01   \n",
       "Doc2     0.0  ...     0.00     0.00     0.43     0.00     0.14     0.00   \n",
       "Doc3     0.0  ...     0.00     0.35     0.00     0.00     0.00     0.00   \n",
       "Doc4     0.0  ...     0.00     0.00     0.00     0.06     0.00     0.03   \n",
       "\n",
       "      Topic17  Topic18  Topic19  dominant_topic  \n",
       "Doc0     0.00      0.0      0.0               3  \n",
       "Doc1     0.00      0.0      0.0              11  \n",
       "Doc2     0.00      0.0      0.0              13  \n",
       "Doc3     0.65      0.0      0.0              17  \n",
       "Doc4     0.00      0.0      0.0              10  \n",
       "\n",
       "[5 rows x 21 columns]"
      ]
     },
     "execution_count": 70,
     "metadata": {},
     "output_type": "execute_result"
    }
   ],
   "source": [
    "#Create Document - Topic Matrix\n",
    "lda_output = lda_model.transform(xtrain_count)\n",
    "\n",
    "#Column names\n",
    "topicnames = [\"Topic\" + str(i) for i in range(lda_model.n_components)]\n",
    "\n",
    "#Index names\n",
    "docnames = [\"Doc\" + str(i) for i in range(len(lda_Train))]\n",
    "\n",
    "#Make the pandas dataframe\n",
    "df_document_topic = pd.DataFrame(np.round(lda_output, 2), columns = topicnames, index = docnames)\n",
    "\n",
    "#Get dominant topic for each document\n",
    "dominant_topic = np.argmax(df_document_topic.values, axis = 1)\n",
    "df_document_topic['dominant_topic'] = dominant_topic\n",
    "\n",
    "df_document_topic.head()"
   ]
  },
  {
   "cell_type": "code",
   "execution_count": 71,
   "metadata": {},
   "outputs": [
    {
     "data": {
      "text/html": [
       "<div>\n",
       "<style scoped>\n",
       "    .dataframe tbody tr th:only-of-type {\n",
       "        vertical-align: middle;\n",
       "    }\n",
       "\n",
       "    .dataframe tbody tr th {\n",
       "        vertical-align: top;\n",
       "    }\n",
       "\n",
       "    .dataframe thead th {\n",
       "        text-align: right;\n",
       "    }\n",
       "</style>\n",
       "<table border=\"1\" class=\"dataframe\">\n",
       "  <thead>\n",
       "    <tr style=\"text-align: right;\">\n",
       "      <th></th>\n",
       "      <th>Topic Num</th>\n",
       "      <th>Num Documents</th>\n",
       "    </tr>\n",
       "  </thead>\n",
       "  <tbody>\n",
       "    <tr>\n",
       "      <th>0</th>\n",
       "      <td>0</td>\n",
       "      <td>580</td>\n",
       "    </tr>\n",
       "    <tr>\n",
       "      <th>1</th>\n",
       "      <td>1</td>\n",
       "      <td>1414</td>\n",
       "    </tr>\n",
       "    <tr>\n",
       "      <th>2</th>\n",
       "      <td>2</td>\n",
       "      <td>4548</td>\n",
       "    </tr>\n",
       "    <tr>\n",
       "      <th>3</th>\n",
       "      <td>3</td>\n",
       "      <td>692</td>\n",
       "    </tr>\n",
       "    <tr>\n",
       "      <th>4</th>\n",
       "      <td>4</td>\n",
       "      <td>643</td>\n",
       "    </tr>\n",
       "  </tbody>\n",
       "</table>\n",
       "</div>"
      ],
      "text/plain": [
       "   Topic Num  Num Documents\n",
       "0          0            580\n",
       "1          1           1414\n",
       "2          2           4548\n",
       "3          3            692\n",
       "4          4            643"
      ]
     },
     "execution_count": 71,
     "metadata": {},
     "output_type": "execute_result"
    }
   ],
   "source": [
    "# Review topics distribution across documents\n",
    "df_topic_distribution = df_document_topic['dominant_topic'].value_counts().reset_index(name=\"Num Documents\")\n",
    "df_topic_distribution.columns = ['Topic Num', 'Num Documents']\n",
    "df_topic_distribution.sort_values(by = \"Topic Num\").reset_index(drop=True).head()"
   ]
  },
  {
   "cell_type": "code",
   "execution_count": 72,
   "metadata": {},
   "outputs": [
    {
     "data": {
      "text/html": [
       "<div>\n",
       "<style scoped>\n",
       "    .dataframe tbody tr th:only-of-type {\n",
       "        vertical-align: middle;\n",
       "    }\n",
       "\n",
       "    .dataframe tbody tr th {\n",
       "        vertical-align: top;\n",
       "    }\n",
       "\n",
       "    .dataframe thead th {\n",
       "        text-align: right;\n",
       "    }\n",
       "</style>\n",
       "<table border=\"1\" class=\"dataframe\">\n",
       "  <thead>\n",
       "    <tr style=\"text-align: right;\">\n",
       "      <th></th>\n",
       "      <th>ability</th>\n",
       "      <th>able</th>\n",
       "      <th>access</th>\n",
       "      <th>accordance</th>\n",
       "      <th>according</th>\n",
       "      <th>account</th>\n",
       "      <th>accountant</th>\n",
       "      <th>accounting</th>\n",
       "      <th>accuracy</th>\n",
       "      <th>accurate</th>\n",
       "      <th>...</th>\n",
       "      <th>working</th>\n",
       "      <th>world</th>\n",
       "      <th>would</th>\n",
       "      <th>write</th>\n",
       "      <th>writing</th>\n",
       "      <th>written</th>\n",
       "      <th>wv</th>\n",
       "      <th>wwwcareercenteram</th>\n",
       "      <th>year</th>\n",
       "      <th>yerevan</th>\n",
       "    </tr>\n",
       "  </thead>\n",
       "  <tbody>\n",
       "    <tr>\n",
       "      <th>Topic0</th>\n",
       "      <td>1447.718605</td>\n",
       "      <td>12.335400</td>\n",
       "      <td>0.829193</td>\n",
       "      <td>64.614244</td>\n",
       "      <td>255.296040</td>\n",
       "      <td>120.392763</td>\n",
       "      <td>0.250015</td>\n",
       "      <td>209.314281</td>\n",
       "      <td>144.794418</td>\n",
       "      <td>41.330719</td>\n",
       "      <td>...</td>\n",
       "      <td>61.396240</td>\n",
       "      <td>0.050836</td>\n",
       "      <td>0.058547</td>\n",
       "      <td>0.326733</td>\n",
       "      <td>13.230400</td>\n",
       "      <td>159.097848</td>\n",
       "      <td>0.050405</td>\n",
       "      <td>967.556392</td>\n",
       "      <td>501.965317</td>\n",
       "      <td>313.000894</td>\n",
       "    </tr>\n",
       "    <tr>\n",
       "      <th>Topic1</th>\n",
       "      <td>2006.648105</td>\n",
       "      <td>17.467602</td>\n",
       "      <td>304.287144</td>\n",
       "      <td>260.195637</td>\n",
       "      <td>160.968723</td>\n",
       "      <td>11.789918</td>\n",
       "      <td>0.183797</td>\n",
       "      <td>0.118973</td>\n",
       "      <td>7.366713</td>\n",
       "      <td>68.574273</td>\n",
       "      <td>...</td>\n",
       "      <td>1417.792786</td>\n",
       "      <td>380.542518</td>\n",
       "      <td>118.057990</td>\n",
       "      <td>79.108414</td>\n",
       "      <td>547.658657</td>\n",
       "      <td>780.251795</td>\n",
       "      <td>2.323226</td>\n",
       "      <td>953.070272</td>\n",
       "      <td>1378.683543</td>\n",
       "      <td>917.537665</td>\n",
       "    </tr>\n",
       "    <tr>\n",
       "      <th>Topic2</th>\n",
       "      <td>2858.897993</td>\n",
       "      <td>50.541998</td>\n",
       "      <td>40.129294</td>\n",
       "      <td>3.309048</td>\n",
       "      <td>77.154603</td>\n",
       "      <td>5.713464</td>\n",
       "      <td>0.055671</td>\n",
       "      <td>0.377591</td>\n",
       "      <td>180.264933</td>\n",
       "      <td>23.551839</td>\n",
       "      <td>...</td>\n",
       "      <td>887.663060</td>\n",
       "      <td>33.604523</td>\n",
       "      <td>259.905920</td>\n",
       "      <td>175.737704</td>\n",
       "      <td>194.111254</td>\n",
       "      <td>697.403897</td>\n",
       "      <td>0.051952</td>\n",
       "      <td>10240.530346</td>\n",
       "      <td>1911.466947</td>\n",
       "      <td>6065.987049</td>\n",
       "    </tr>\n",
       "    <tr>\n",
       "      <th>Topic3</th>\n",
       "      <td>512.353246</td>\n",
       "      <td>0.051449</td>\n",
       "      <td>2.269178</td>\n",
       "      <td>1.021990</td>\n",
       "      <td>17.472091</td>\n",
       "      <td>0.060521</td>\n",
       "      <td>0.050474</td>\n",
       "      <td>0.056269</td>\n",
       "      <td>0.052244</td>\n",
       "      <td>0.579841</td>\n",
       "      <td>...</td>\n",
       "      <td>280.038991</td>\n",
       "      <td>0.053060</td>\n",
       "      <td>56.141149</td>\n",
       "      <td>234.982388</td>\n",
       "      <td>126.469598</td>\n",
       "      <td>335.059179</td>\n",
       "      <td>0.050442</td>\n",
       "      <td>1486.885863</td>\n",
       "      <td>671.105070</td>\n",
       "      <td>860.617277</td>\n",
       "    </tr>\n",
       "    <tr>\n",
       "      <th>Topic4</th>\n",
       "      <td>209.968079</td>\n",
       "      <td>2.065422</td>\n",
       "      <td>1.995901</td>\n",
       "      <td>0.059823</td>\n",
       "      <td>141.295910</td>\n",
       "      <td>0.074826</td>\n",
       "      <td>0.050491</td>\n",
       "      <td>0.050769</td>\n",
       "      <td>0.055548</td>\n",
       "      <td>0.050831</td>\n",
       "      <td>...</td>\n",
       "      <td>135.755963</td>\n",
       "      <td>0.057503</td>\n",
       "      <td>2.683862</td>\n",
       "      <td>15.859200</td>\n",
       "      <td>14.144509</td>\n",
       "      <td>146.233163</td>\n",
       "      <td>0.050385</td>\n",
       "      <td>1704.614219</td>\n",
       "      <td>873.519177</td>\n",
       "      <td>1412.882759</td>\n",
       "    </tr>\n",
       "  </tbody>\n",
       "</table>\n",
       "<p>5 rows × 800 columns</p>\n",
       "</div>"
      ],
      "text/plain": [
       "            ability       able      access  accordance   according  \\\n",
       "Topic0  1447.718605  12.335400    0.829193   64.614244  255.296040   \n",
       "Topic1  2006.648105  17.467602  304.287144  260.195637  160.968723   \n",
       "Topic2  2858.897993  50.541998   40.129294    3.309048   77.154603   \n",
       "Topic3   512.353246   0.051449    2.269178    1.021990   17.472091   \n",
       "Topic4   209.968079   2.065422    1.995901    0.059823  141.295910   \n",
       "\n",
       "           account  accountant  accounting    accuracy   accurate  ...  \\\n",
       "Topic0  120.392763    0.250015  209.314281  144.794418  41.330719  ...   \n",
       "Topic1   11.789918    0.183797    0.118973    7.366713  68.574273  ...   \n",
       "Topic2    5.713464    0.055671    0.377591  180.264933  23.551839  ...   \n",
       "Topic3    0.060521    0.050474    0.056269    0.052244   0.579841  ...   \n",
       "Topic4    0.074826    0.050491    0.050769    0.055548   0.050831  ...   \n",
       "\n",
       "            working       world       would       write     writing  \\\n",
       "Topic0    61.396240    0.050836    0.058547    0.326733   13.230400   \n",
       "Topic1  1417.792786  380.542518  118.057990   79.108414  547.658657   \n",
       "Topic2   887.663060   33.604523  259.905920  175.737704  194.111254   \n",
       "Topic3   280.038991    0.053060   56.141149  234.982388  126.469598   \n",
       "Topic4   135.755963    0.057503    2.683862   15.859200   14.144509   \n",
       "\n",
       "           written        wv  wwwcareercenteram         year      yerevan  \n",
       "Topic0  159.097848  0.050405         967.556392   501.965317   313.000894  \n",
       "Topic1  780.251795  2.323226         953.070272  1378.683543   917.537665  \n",
       "Topic2  697.403897  0.051952       10240.530346  1911.466947  6065.987049  \n",
       "Topic3  335.059179  0.050442        1486.885863   671.105070   860.617277  \n",
       "Topic4  146.233163  0.050385        1704.614219   873.519177  1412.882759  \n",
       "\n",
       "[5 rows x 800 columns]"
      ]
     },
     "execution_count": 72,
     "metadata": {},
     "output_type": "execute_result"
    }
   ],
   "source": [
    "#Topic-Keyword Matrix\n",
    "df_topic_keywords = pd.DataFrame(lda_model.components_)\n",
    "\n",
    "#Assign Column and Index\n",
    "df_topic_keywords.columns = count_vect.get_feature_names()\n",
    "df_topic_keywords.index = topicnames\n",
    "\n",
    "#View\n",
    "df_topic_keywords.head()"
   ]
  },
  {
   "cell_type": "code",
   "execution_count": 73,
   "metadata": {},
   "outputs": [
    {
     "data": {
      "text/html": [
       "<div>\n",
       "<style scoped>\n",
       "    .dataframe tbody tr th:only-of-type {\n",
       "        vertical-align: middle;\n",
       "    }\n",
       "\n",
       "    .dataframe tbody tr th {\n",
       "        vertical-align: top;\n",
       "    }\n",
       "\n",
       "    .dataframe thead th {\n",
       "        text-align: right;\n",
       "    }\n",
       "</style>\n",
       "<table border=\"1\" class=\"dataframe\">\n",
       "  <thead>\n",
       "    <tr style=\"text-align: right;\">\n",
       "      <th></th>\n",
       "      <th>Word 0</th>\n",
       "      <th>Word 1</th>\n",
       "      <th>Word 2</th>\n",
       "      <th>Word 3</th>\n",
       "      <th>Word 4</th>\n",
       "      <th>Word 5</th>\n",
       "      <th>Word 6</th>\n",
       "      <th>Word 7</th>\n",
       "      <th>Word 8</th>\n",
       "      <th>Word 9</th>\n",
       "      <th>Word 10</th>\n",
       "    </tr>\n",
       "  </thead>\n",
       "  <tbody>\n",
       "    <tr>\n",
       "      <th>Topic 0</th>\n",
       "      <td>bank</td>\n",
       "      <td>management</td>\n",
       "      <td>skill</td>\n",
       "      <td>job</td>\n",
       "      <td>business</td>\n",
       "      <td>financial</td>\n",
       "      <td>knowledge</td>\n",
       "      <td>application</td>\n",
       "      <td>process</td>\n",
       "      <td>company</td>\n",
       "      <td>cjsc</td>\n",
       "    </tr>\n",
       "    <tr>\n",
       "      <th>Topic 1</th>\n",
       "      <td>project</td>\n",
       "      <td>development</td>\n",
       "      <td>management</td>\n",
       "      <td>armenia</td>\n",
       "      <td>activity</td>\n",
       "      <td>program</td>\n",
       "      <td>implementation</td>\n",
       "      <td>experience</td>\n",
       "      <td>work</td>\n",
       "      <td>international</td>\n",
       "      <td>support</td>\n",
       "    </tr>\n",
       "    <tr>\n",
       "      <th>Topic 2</th>\n",
       "      <td>job</td>\n",
       "      <td>application</td>\n",
       "      <td>mention</td>\n",
       "      <td>website</td>\n",
       "      <td>please</td>\n",
       "      <td>opportunity</td>\n",
       "      <td>wwwcareercenteram</td>\n",
       "      <td>armenia</td>\n",
       "      <td>company</td>\n",
       "      <td>date</td>\n",
       "      <td>knowledge</td>\n",
       "    </tr>\n",
       "    <tr>\n",
       "      <th>Topic 3</th>\n",
       "      <td>application</td>\n",
       "      <td>software</td>\n",
       "      <td>job</td>\n",
       "      <td>design</td>\n",
       "      <td>development</td>\n",
       "      <td>experience</td>\n",
       "      <td>please</td>\n",
       "      <td>engineer</td>\n",
       "      <td>mention</td>\n",
       "      <td>website</td>\n",
       "      <td>opportunity</td>\n",
       "    </tr>\n",
       "    <tr>\n",
       "      <th>Topic 4</th>\n",
       "      <td>application</td>\n",
       "      <td>job</td>\n",
       "      <td>form</td>\n",
       "      <td>bank</td>\n",
       "      <td>announcement</td>\n",
       "      <td>attachment</td>\n",
       "      <td>website</td>\n",
       "      <td>mention</td>\n",
       "      <td>opportunity</td>\n",
       "      <td>knowledge</td>\n",
       "      <td>wwwcareercenteram</td>\n",
       "    </tr>\n",
       "    <tr>\n",
       "      <th>Topic 5</th>\n",
       "      <td>design</td>\n",
       "      <td>experience</td>\n",
       "      <td>application</td>\n",
       "      <td>data</td>\n",
       "      <td>ability</td>\n",
       "      <td>skill</td>\n",
       "      <td>job</td>\n",
       "      <td>team</td>\n",
       "      <td>database</td>\n",
       "      <td>business</td>\n",
       "      <td>work</td>\n",
       "    </tr>\n",
       "    <tr>\n",
       "      <th>Topic 6</th>\n",
       "      <td>system</td>\n",
       "      <td>network</td>\n",
       "      <td>application</td>\n",
       "      <td>job</td>\n",
       "      <td>security</td>\n",
       "      <td>information</td>\n",
       "      <td>knowledge</td>\n",
       "      <td>support</td>\n",
       "      <td>technical</td>\n",
       "      <td>experience</td>\n",
       "      <td>administration</td>\n",
       "    </tr>\n",
       "    <tr>\n",
       "      <th>Topic 7</th>\n",
       "      <td>child</td>\n",
       "      <td>community</td>\n",
       "      <td>armenia</td>\n",
       "      <td>health</td>\n",
       "      <td>development</td>\n",
       "      <td>world</td>\n",
       "      <td>program</td>\n",
       "      <td>vision</td>\n",
       "      <td>skill</td>\n",
       "      <td>job</td>\n",
       "      <td>ensure</td>\n",
       "    </tr>\n",
       "    <tr>\n",
       "      <th>Topic 8</th>\n",
       "      <td>test</td>\n",
       "      <td>testing</td>\n",
       "      <td>qa</td>\n",
       "      <td>tool</td>\n",
       "      <td>quality</td>\n",
       "      <td>knowledge</td>\n",
       "      <td>job</td>\n",
       "      <td>application</td>\n",
       "      <td>ability</td>\n",
       "      <td>experience</td>\n",
       "      <td>assurance</td>\n",
       "    </tr>\n",
       "    <tr>\n",
       "      <th>Topic 9</th>\n",
       "      <td>legal</td>\n",
       "      <td>law</td>\n",
       "      <td>application</td>\n",
       "      <td>job</td>\n",
       "      <td>legislation</td>\n",
       "      <td>knowledge</td>\n",
       "      <td>work</td>\n",
       "      <td>ra</td>\n",
       "      <td>contract</td>\n",
       "      <td>document</td>\n",
       "      <td>armenia</td>\n",
       "    </tr>\n",
       "    <tr>\n",
       "      <th>Topic 10</th>\n",
       "      <td>sale</td>\n",
       "      <td>marketing</td>\n",
       "      <td>customer</td>\n",
       "      <td>job</td>\n",
       "      <td>product</td>\n",
       "      <td>company</td>\n",
       "      <td>skill</td>\n",
       "      <td>market</td>\n",
       "      <td>service</td>\n",
       "      <td>application</td>\n",
       "      <td>opportunity</td>\n",
       "    </tr>\n",
       "    <tr>\n",
       "      <th>Topic 11</th>\n",
       "      <td>credit</td>\n",
       "      <td>financial</td>\n",
       "      <td>organization</td>\n",
       "      <td>job</td>\n",
       "      <td>application</td>\n",
       "      <td>finance</td>\n",
       "      <td>armenia</td>\n",
       "      <td>procurement</td>\n",
       "      <td>office</td>\n",
       "      <td>skill</td>\n",
       "      <td>work</td>\n",
       "    </tr>\n",
       "    <tr>\n",
       "      <th>Topic 12</th>\n",
       "      <td>knowledge</td>\n",
       "      <td>software</td>\n",
       "      <td>construction</td>\n",
       "      <td>experience</td>\n",
       "      <td>service</td>\n",
       "      <td>design</td>\n",
       "      <td>ability</td>\n",
       "      <td>development</td>\n",
       "      <td>application</td>\n",
       "      <td>cjsc</td>\n",
       "      <td>job</td>\n",
       "    </tr>\n",
       "    <tr>\n",
       "      <th>Topic 13</th>\n",
       "      <td>accounting</td>\n",
       "      <td>financial</td>\n",
       "      <td>tax</td>\n",
       "      <td>report</td>\n",
       "      <td>job</td>\n",
       "      <td>accountant</td>\n",
       "      <td>knowledge</td>\n",
       "      <td>application</td>\n",
       "      <td>prepare</td>\n",
       "      <td>finance</td>\n",
       "      <td>company</td>\n",
       "    </tr>\n",
       "    <tr>\n",
       "      <th>Topic 14</th>\n",
       "      <td>job</td>\n",
       "      <td>office</td>\n",
       "      <td>administrative</td>\n",
       "      <td>application</td>\n",
       "      <td>please</td>\n",
       "      <td>website</td>\n",
       "      <td>assistant</td>\n",
       "      <td>armenia</td>\n",
       "      <td>skill</td>\n",
       "      <td>opportunity</td>\n",
       "      <td>announcement</td>\n",
       "    </tr>\n",
       "    <tr>\n",
       "      <th>Topic 15</th>\n",
       "      <td>job</td>\n",
       "      <td>company</td>\n",
       "      <td>application</td>\n",
       "      <td>work</td>\n",
       "      <td>candidate</td>\n",
       "      <td>please</td>\n",
       "      <td>mention</td>\n",
       "      <td>knowledge</td>\n",
       "      <td>equipment</td>\n",
       "      <td>skill</td>\n",
       "      <td>website</td>\n",
       "    </tr>\n",
       "    <tr>\n",
       "      <th>Topic 16</th>\n",
       "      <td>social</td>\n",
       "      <td>consultant</td>\n",
       "      <td>copy</td>\n",
       "      <td>must</td>\n",
       "      <td>right</td>\n",
       "      <td>un</td>\n",
       "      <td>country</td>\n",
       "      <td>undp</td>\n",
       "      <td>following</td>\n",
       "      <td>human</td>\n",
       "      <td>submitted</td>\n",
       "    </tr>\n",
       "    <tr>\n",
       "      <th>Topic 17</th>\n",
       "      <td>application</td>\n",
       "      <td>job</td>\n",
       "      <td>experience</td>\n",
       "      <td>software</td>\n",
       "      <td>knowledge</td>\n",
       "      <td>development</td>\n",
       "      <td>developer</td>\n",
       "      <td>mention</td>\n",
       "      <td>please</td>\n",
       "      <td>website</td>\n",
       "      <td>opportunity</td>\n",
       "    </tr>\n",
       "    <tr>\n",
       "      <th>Topic 18</th>\n",
       "      <td>training</td>\n",
       "      <td>english</td>\n",
       "      <td>course</td>\n",
       "      <td>center</td>\n",
       "      <td>application</td>\n",
       "      <td>armenia</td>\n",
       "      <td>language</td>\n",
       "      <td>program</td>\n",
       "      <td>career</td>\n",
       "      <td>please</td>\n",
       "      <td>student</td>\n",
       "    </tr>\n",
       "    <tr>\n",
       "      <th>Topic 19</th>\n",
       "      <td>web</td>\n",
       "      <td>application</td>\n",
       "      <td>job</td>\n",
       "      <td>development</td>\n",
       "      <td>company</td>\n",
       "      <td>work</td>\n",
       "      <td>website</td>\n",
       "      <td>technology</td>\n",
       "      <td>please</td>\n",
       "      <td>project</td>\n",
       "      <td>experience</td>\n",
       "    </tr>\n",
       "  </tbody>\n",
       "</table>\n",
       "</div>"
      ],
      "text/plain": [
       "               Word 0       Word 1          Word 2       Word 3        Word 4  \\\n",
       "Topic 0          bank   management           skill          job      business   \n",
       "Topic 1       project  development      management      armenia      activity   \n",
       "Topic 2           job  application         mention      website        please   \n",
       "Topic 3   application     software             job       design   development   \n",
       "Topic 4   application          job            form         bank  announcement   \n",
       "Topic 5        design   experience     application         data       ability   \n",
       "Topic 6        system      network     application          job      security   \n",
       "Topic 7         child    community         armenia       health   development   \n",
       "Topic 8          test      testing              qa         tool       quality   \n",
       "Topic 9         legal          law     application          job   legislation   \n",
       "Topic 10         sale    marketing        customer          job       product   \n",
       "Topic 11       credit    financial    organization          job   application   \n",
       "Topic 12    knowledge     software    construction   experience       service   \n",
       "Topic 13   accounting    financial             tax       report           job   \n",
       "Topic 14          job       office  administrative  application        please   \n",
       "Topic 15          job      company     application         work     candidate   \n",
       "Topic 16       social   consultant            copy         must         right   \n",
       "Topic 17  application          job      experience     software     knowledge   \n",
       "Topic 18     training      english          course       center   application   \n",
       "Topic 19          web  application             job  development       company   \n",
       "\n",
       "               Word 5             Word 6       Word 7       Word 8  \\\n",
       "Topic 0     financial          knowledge  application      process   \n",
       "Topic 1       program     implementation   experience         work   \n",
       "Topic 2   opportunity  wwwcareercenteram      armenia      company   \n",
       "Topic 3    experience             please     engineer      mention   \n",
       "Topic 4    attachment            website      mention  opportunity   \n",
       "Topic 5         skill                job         team     database   \n",
       "Topic 6   information          knowledge      support    technical   \n",
       "Topic 7         world            program       vision        skill   \n",
       "Topic 8     knowledge                job  application      ability   \n",
       "Topic 9     knowledge               work           ra     contract   \n",
       "Topic 10      company              skill       market      service   \n",
       "Topic 11      finance            armenia  procurement       office   \n",
       "Topic 12       design            ability  development  application   \n",
       "Topic 13   accountant          knowledge  application      prepare   \n",
       "Topic 14      website          assistant      armenia        skill   \n",
       "Topic 15       please            mention    knowledge    equipment   \n",
       "Topic 16           un            country         undp    following   \n",
       "Topic 17  development          developer      mention       please   \n",
       "Topic 18      armenia           language      program       career   \n",
       "Topic 19         work            website   technology       please   \n",
       "\n",
       "                 Word 9            Word 10  \n",
       "Topic 0         company               cjsc  \n",
       "Topic 1   international            support  \n",
       "Topic 2            date          knowledge  \n",
       "Topic 3         website        opportunity  \n",
       "Topic 4       knowledge  wwwcareercenteram  \n",
       "Topic 5        business               work  \n",
       "Topic 6      experience     administration  \n",
       "Topic 7             job             ensure  \n",
       "Topic 8      experience          assurance  \n",
       "Topic 9        document            armenia  \n",
       "Topic 10    application        opportunity  \n",
       "Topic 11          skill               work  \n",
       "Topic 12           cjsc                job  \n",
       "Topic 13        finance            company  \n",
       "Topic 14    opportunity       announcement  \n",
       "Topic 15          skill            website  \n",
       "Topic 16          human          submitted  \n",
       "Topic 17        website        opportunity  \n",
       "Topic 18         please            student  \n",
       "Topic 19        project         experience  "
      ]
     },
     "execution_count": 73,
     "metadata": {},
     "output_type": "execute_result"
    }
   ],
   "source": [
    "# Show top n keywords for each topic\n",
    "def show_topics(vectorizer = count_vect, lda_model = lda_model, n_words = 20):\n",
    "    keywords = np.array(count_vect.get_feature_names())\n",
    "    topic_keywords = []\n",
    "    for topic_weights in lda_model.components_:\n",
    "        top_keyword_locs = (-topic_weights).argsort()[:n_words]\n",
    "        topic_keywords.append(keywords.take(top_keyword_locs))\n",
    "    return topic_keywords\n",
    "\n",
    "topic_keywords = show_topics(vectorizer = count_vect, lda_model = lda_model, n_words = 11)        \n",
    "\n",
    "# Topic - Keywords Dataframe\n",
    "df_topic_keywords = pd.DataFrame(topic_keywords)\n",
    "df_topic_keywords.columns = ['Word '+str(i) for i in range(df_topic_keywords.shape[1])]\n",
    "df_topic_keywords.index = ['Topic '+str(i) for i in range(df_topic_keywords.shape[0])]\n",
    "df_topic_keywords"
   ]
  }
 ],
 "metadata": {
  "kernelspec": {
   "display_name": "Python 3",
   "language": "python",
   "name": "python3"
  },
  "language_info": {
   "codemirror_mode": {
    "name": "ipython",
    "version": 3
   },
   "file_extension": ".py",
   "mimetype": "text/x-python",
   "name": "python",
   "nbconvert_exporter": "python",
   "pygments_lexer": "ipython3",
   "version": "3.7.9"
  }
 },
 "nbformat": 4,
 "nbformat_minor": 2
}
